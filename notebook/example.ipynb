{
 "cells": [
  {
   "cell_type": "code",
   "execution_count": 1,
   "metadata": {},
   "outputs": [],
   "source": [
    "from collections import namedtuple\n",
    "from housing.entity.congif_entity import DataIngestionConfig, DataTransformationConfig,DataValidationConfig,   \\\n",
    "ModelTrainerConfig,ModelEvaluationConfig,ModelPusherConfig,TrainingPipelineConfig\n",
    "\n",
    "from housing.logger import logging"
   ]
  },
  {
   "cell_type": "code",
   "execution_count": 2,
   "metadata": {},
   "outputs": [],
   "source": [
    "DataIngestionCongif = namedtuple(\"DataIngestionConfig\",[\"dataset_download_url\",\"tgz_download_dir\",\"raw_data_dir\",\"ingested_train_dir\",\"ingested_test_dir\"])"
   ]
  },
  {
   "cell_type": "markdown",
   "metadata": {},
   "source": [
    "1. Download Url\n",
    "2. Download Folder (compressed file)\n",
    "3. Extracted folder (extracted file)\n",
    "4. train dataset folder\n",
    "5. test dataset folder"
   ]
  },
  {
   "cell_type": "code",
   "execution_count": 3,
   "metadata": {},
   "outputs": [],
   "source": [
    "data_ingestion_config = DataIngestionCongif(dataset_download_url = \"asfds\",\n",
    "tgz_download_dir = \"asds\",\n",
    "raw_data_dir = \"sdva\",\n",
    "ingested_train_dir = \"cfsfa\",\n",
    "ingested_test_dir = \"sgsv\")"
   ]
  },
  {
   "cell_type": "code",
   "execution_count": 4,
   "metadata": {},
   "outputs": [
    {
     "data": {
      "text/plain": [
       "DataIngestionConfig(dataset_download_url='asfds', tgz_download_dir='asds', raw_data_dir='sdva', ingested_train_dir='cfsfa', ingested_test_dir='sgsv')"
      ]
     },
     "execution_count": 4,
     "metadata": {},
     "output_type": "execute_result"
    }
   ],
   "source": [
    "data_ingestion_config"
   ]
  },
  {
   "cell_type": "code",
   "execution_count": 5,
   "metadata": {},
   "outputs": [
    {
     "data": {
      "text/plain": [
       "'c:\\\\Users\\\\vijit kumar\\\\Machine-Learning-Project\\\\notebook'"
      ]
     },
     "execution_count": 5,
     "metadata": {},
     "output_type": "execute_result"
    }
   ],
   "source": [
    "import os\n",
    "import yaml\n",
    "os.getcwd()"
   ]
  },
  {
   "cell_type": "code",
   "execution_count": 6,
   "metadata": {},
   "outputs": [],
   "source": [
    "os.chdir('c:\\\\Users\\\\vijit kumar\\\\Machine-Learning-Project')"
   ]
  },
  {
   "cell_type": "code",
   "execution_count": 7,
   "metadata": {},
   "outputs": [],
   "source": [
    "config_file_path = os.path.join(\"config\",\"config.yaml\")"
   ]
  },
  {
   "cell_type": "code",
   "execution_count": 8,
   "metadata": {},
   "outputs": [
    {
     "data": {
      "text/plain": [
       "'config\\\\config.yaml'"
      ]
     },
     "execution_count": 8,
     "metadata": {},
     "output_type": "execute_result"
    }
   ],
   "source": [
    "config_file_path"
   ]
  },
  {
   "cell_type": "code",
   "execution_count": 9,
   "metadata": {},
   "outputs": [
    {
     "data": {
      "text/plain": [
       "True"
      ]
     },
     "execution_count": 9,
     "metadata": {},
     "output_type": "execute_result"
    }
   ],
   "source": [
    "os.path.exists(config_file_path)"
   ]
  },
  {
   "cell_type": "code",
   "execution_count": 10,
   "metadata": {},
   "outputs": [],
   "source": [
    "with open(config_file_path,\"rb\") as yaml_file:\n",
    "    config_info = yaml.safe_load(yaml_file)"
   ]
  },
  {
   "cell_type": "code",
   "execution_count": 11,
   "metadata": {},
   "outputs": [
    {
     "data": {
      "text/plain": [
       "{'dataset_download_url': 'https://raw.githubusercontent.com/ageron/handson-ml/master/datasets/housing/housing.tgz',\n",
       " 'raw_data_dir': 'raw_data',\n",
       " 'tgz_download_dir': 'tgz_data',\n",
       " 'ingested_dir': 'ingested_data',\n",
       " 'ingested_train_dir': 'train',\n",
       " 'ingested_test_dir': 'test'}"
      ]
     },
     "execution_count": 11,
     "metadata": {},
     "output_type": "execute_result"
    }
   ],
   "source": [
    "config_info[\"data_ingestion_config\"]"
   ]
  },
  {
   "cell_type": "code",
   "execution_count": 12,
   "metadata": {},
   "outputs": [],
   "source": [
    "def read_yaml_file(file_path:str)->dict:\n",
    "    try:\n",
    "        with open(config_file_path,\"rb\") as yaml_file:\n",
    "            return yaml.safe_load(yaml_file)\n",
    "    except Exception as e:\n",
    "        print(e)\n"
   ]
  },
  {
   "cell_type": "code",
   "execution_count": 13,
   "metadata": {},
   "outputs": [
    {
     "data": {
      "text/plain": [
       "TrainingPipelineConfig(artifact_dir='c:\\\\Users\\\\vijit kumar\\\\Machine-Learning-Project\\\\housing\\\\artifact')"
      ]
     },
     "execution_count": 13,
     "metadata": {},
     "output_type": "execute_result"
    }
   ],
   "source": [
    "from housing.config.configuration import Configuration\n",
    "config = Configuration()\n",
    "config.get_training_pipeline_config()\n",
    "\n"
   ]
  },
  {
   "cell_type": "code",
   "execution_count": 14,
   "metadata": {},
   "outputs": [
    {
     "data": {
      "text/plain": [
       "DataIngestionConfig(dataset_download_url='https://raw.githubusercontent.com/ageron/handson-ml/master/datasets/housing/housing.tgz', tgz_download_dir='c:\\\\Users\\\\vijit kumar\\\\Machine-Learning-Project\\\\housing\\\\artifact\\\\data_ingestion_config\\\\2022=06-25_17-14-01\\\\tgz_data', raw_data_dir='c:\\\\Users\\\\vijit kumar\\\\Machine-Learning-Project\\\\housing\\\\artifact\\\\data_ingestion_config\\\\2022=06-25_17-14-01\\\\raw_data', ingested_train_dir='c:\\\\Users\\\\vijit kumar\\\\Machine-Learning-Project\\\\housing\\\\artifact\\\\data_ingestion_config\\\\2022=06-25_17-14-01\\\\ingested_data\\\\train', ingested_test_dir='c:\\\\Users\\\\vijit kumar\\\\Machine-Learning-Project\\\\housing\\\\artifact\\\\data_ingestion_config\\\\2022=06-25_17-14-01\\\\ingested_data\\\\test')"
      ]
     },
     "execution_count": 14,
     "metadata": {},
     "output_type": "execute_result"
    }
   ],
   "source": [
    "config.get_data_ingestion_config()"
   ]
  },
  {
   "cell_type": "code",
   "execution_count": 15,
   "metadata": {},
   "outputs": [],
   "source": [
    "from housing.config.configuration import Configuration\n",
    "config = Configuration()"
   ]
  },
  {
   "cell_type": "code",
   "execution_count": 16,
   "metadata": {},
   "outputs": [
    {
     "data": {
      "text/plain": [
       "DataIngestionConfig(dataset_download_url='https://raw.githubusercontent.com/ageron/handson-ml/master/datasets/housing/housing.tgz', tgz_download_dir='c:\\\\Users\\\\vijit kumar\\\\Machine-Learning-Project\\\\housing\\\\artifact\\\\data_ingestion_config\\\\2022=06-25_17-14-01\\\\tgz_data', raw_data_dir='c:\\\\Users\\\\vijit kumar\\\\Machine-Learning-Project\\\\housing\\\\artifact\\\\data_ingestion_config\\\\2022=06-25_17-14-01\\\\raw_data', ingested_train_dir='c:\\\\Users\\\\vijit kumar\\\\Machine-Learning-Project\\\\housing\\\\artifact\\\\data_ingestion_config\\\\2022=06-25_17-14-01\\\\ingested_data\\\\train', ingested_test_dir='c:\\\\Users\\\\vijit kumar\\\\Machine-Learning-Project\\\\housing\\\\artifact\\\\data_ingestion_config\\\\2022=06-25_17-14-01\\\\ingested_data\\\\test')"
      ]
     },
     "execution_count": 16,
     "metadata": {},
     "output_type": "execute_result"
    }
   ],
   "source": [
    "config.get_data_ingestion_config()"
   ]
  },
  {
   "cell_type": "code",
   "execution_count": 17,
   "metadata": {},
   "outputs": [
    {
     "data": {
      "text/plain": [
       "TrainingPipelineConfig(artifact_dir='c:\\\\Users\\\\vijit kumar\\\\Machine-Learning-Project\\\\housing\\\\artifact')"
      ]
     },
     "execution_count": 17,
     "metadata": {},
     "output_type": "execute_result"
    }
   ],
   "source": [
    "config.get_training_pipeline_config()"
   ]
  },
  {
   "cell_type": "code",
   "execution_count": null,
   "metadata": {},
   "outputs": [],
   "source": []
  },
  {
   "cell_type": "code",
   "execution_count": 18,
   "metadata": {},
   "outputs": [],
   "source": [
    "from housing.constant import *"
   ]
  },
  {
   "cell_type": "code",
   "execution_count": 19,
   "metadata": {},
   "outputs": [],
   "source": [
    "from housing.util.util import read_yaml_file"
   ]
  },
  {
   "cell_type": "code",
   "execution_count": 20,
   "metadata": {},
   "outputs": [
    {
     "data": {
      "text/plain": [
       "DataTransformationConfig(add_bedroom_per_room='c:\\\\Users\\\\vijit kumar\\\\Machine-Learning-Project\\\\housing\\\\artifact\\\\True', transformed_train_dir='c:\\\\Users\\\\vijit kumar\\\\Machine-Learning-Project\\\\housing\\\\artifact\\\\transformed_data\\\\train', transformed_test_dir='c:\\\\Users\\\\vijit kumar\\\\Machine-Learning-Project\\\\housing\\\\artifact\\\\transformed_data\\\\test', preprocessed_object_file_path='c:\\\\Users\\\\vijit kumar\\\\Machine-Learning-Project\\\\housing\\\\artifact\\\\preprocessed\\\\preprocessed.pkl')"
      ]
     },
     "execution_count": 20,
     "metadata": {},
     "output_type": "execute_result"
    }
   ],
   "source": [
    "config.get_data_transformation_config()"
   ]
  },
  {
   "cell_type": "code",
   "execution_count": 21,
   "metadata": {},
   "outputs": [
    {
     "data": {
      "text/plain": [
       "{'add_bedroom_per_room': True,\n",
       " 'transformed_dir': 'transformed_data',\n",
       " 'transformed_train_dir': 'train',\n",
       " 'transformed_test_dir': 'test',\n",
       " 'preprocessing_dir': 'preprocessed',\n",
       " 'preprocessed_object_file_name': 'preprocessed.pkl'}"
      ]
     },
     "execution_count": 21,
     "metadata": {},
     "output_type": "execute_result"
    }
   ],
   "source": [
    "read_yaml_file(\n",
    "    file_path=config_file_path\n",
    ")['data_transformation_config']"
   ]
  },
  {
   "cell_type": "code",
   "execution_count": 22,
   "metadata": {},
   "outputs": [
    {
     "data": {
      "text/plain": [
       "TrainingPipelineConfig(artifact_dir='c:\\\\Users\\\\vijit kumar\\\\Machine-Learning-Project\\\\housing\\\\artifact')"
      ]
     },
     "execution_count": 22,
     "metadata": {},
     "output_type": "execute_result"
    }
   ],
   "source": [
    "config.get_training_pipeline_config()"
   ]
  },
  {
   "cell_type": "code",
   "execution_count": 23,
   "metadata": {},
   "outputs": [],
   "source": [
    "from housing.constant import *"
   ]
  },
  {
   "cell_type": "code",
   "execution_count": 24,
   "metadata": {},
   "outputs": [],
   "source": [
    "\n",
    "data_validation_info = config.config_info[DATA_VALIDATION_CONFIG_KEY]"
   ]
  },
  {
   "cell_type": "code",
   "execution_count": 25,
   "metadata": {},
   "outputs": [
    {
     "data": {
      "text/plain": [
       "{'schema_file_name': 'schema.yaml'}"
      ]
     },
     "execution_count": 25,
     "metadata": {},
     "output_type": "execute_result"
    }
   ],
   "source": [
    "data_validation_info"
   ]
  },
  {
   "cell_type": "code",
   "execution_count": 26,
   "metadata": {},
   "outputs": [],
   "source": [
    "artifact_dir = config.training_pipeline_config.artifact_dir"
   ]
  },
  {
   "cell_type": "code",
   "execution_count": 27,
   "metadata": {},
   "outputs": [
    {
     "data": {
      "text/plain": [
       "'c:\\\\Users\\\\vijit kumar\\\\Machine-Learning-Project\\\\housing\\\\artifact'"
      ]
     },
     "execution_count": 27,
     "metadata": {},
     "output_type": "execute_result"
    }
   ],
   "source": [
    "artifact_dir"
   ]
  },
  {
   "cell_type": "code",
   "execution_count": 28,
   "metadata": {},
   "outputs": [],
   "source": [
    "data_validation_artifact_dir=os.path.join(\n",
    "                artifact_dir,\n",
    "                DATA_VALIDATION_ARTIFACT_DIR,\n",
    "                config.time_stamp\n",
    "            )"
   ]
  },
  {
   "cell_type": "code",
   "execution_count": 29,
   "metadata": {},
   "outputs": [
    {
     "data": {
      "text/plain": [
       "'c:\\\\Users\\\\vijit kumar\\\\Machine-Learning-Project\\\\housing\\\\artifact\\\\data_validation\\\\2022=06-25_17-14-01'"
      ]
     },
     "execution_count": 29,
     "metadata": {},
     "output_type": "execute_result"
    }
   ],
   "source": [
    "data_validation_artifact_dir"
   ]
  },
  {
   "cell_type": "code",
   "execution_count": 30,
   "metadata": {},
   "outputs": [],
   "source": [
    "data_schema = os.path.join(data_validation_artifact_dir,data_validation_info[DATA_VALIDATION_SCHEMA_DIR])"
   ]
  },
  {
   "cell_type": "code",
   "execution_count": 31,
   "metadata": {},
   "outputs": [
    {
     "data": {
      "text/plain": [
       "'c:\\\\Users\\\\vijit kumar\\\\Machine-Learning-Project\\\\housing\\\\artifact\\\\data_validation\\\\2022=06-25_17-14-01\\\\schema.yaml'"
      ]
     },
     "execution_count": 31,
     "metadata": {},
     "output_type": "execute_result"
    }
   ],
   "source": [
    "data_schema"
   ]
  },
  {
   "cell_type": "code",
   "execution_count": 32,
   "metadata": {},
   "outputs": [],
   "source": [
    "data_validation_config = DataValidationConfig(schema_file_path=data_schema)"
   ]
  },
  {
   "cell_type": "code",
   "execution_count": 33,
   "metadata": {},
   "outputs": [
    {
     "data": {
      "text/plain": [
       "DataValidationConfig(schema_file_path='c:\\\\Users\\\\vijit kumar\\\\Machine-Learning-Project\\\\housing\\\\artifact\\\\data_validation\\\\2022=06-25_17-14-01\\\\schema.yaml')"
      ]
     },
     "execution_count": 33,
     "metadata": {},
     "output_type": "execute_result"
    }
   ],
   "source": [
    "data_validation_config"
   ]
  },
  {
   "cell_type": "code",
   "execution_count": 34,
   "metadata": {},
   "outputs": [],
   "source": [
    " logging.info(f\"data validation part : {data_validation_config}\")"
   ]
  },
  {
   "cell_type": "code",
   "execution_count": 35,
   "metadata": {},
   "outputs": [
    {
     "data": {
      "text/plain": [
       "DataValidationConfig(schema_file_path='c:\\\\Users\\\\vijit kumar\\\\Machine-Learning-Project\\\\housing\\\\artifact\\\\data_validation\\\\2022=06-25_17-14-01\\\\schema.yaml')"
      ]
     },
     "execution_count": 35,
     "metadata": {},
     "output_type": "execute_result"
    }
   ],
   "source": [
    "config.get_data_validation_config()"
   ]
  },
  {
   "cell_type": "code",
   "execution_count": 36,
   "metadata": {},
   "outputs": [],
   "source": [
    " artifact_dir = config.training_pipeline_config.artifact_dir\n",
    "data_transformation_artifact_dir=os.path.join(\n",
    "    artifact_dir,\n",
    "    DATA_TRANSFORMATION_ARTIFACT_KEY,\n",
    "    config.time_stamp\n",
    "            )"
   ]
  },
  {
   "cell_type": "code",
   "execution_count": 37,
   "metadata": {},
   "outputs": [
    {
     "data": {
      "text/plain": [
       "DataValidationConfig(schema_file_path='c:\\\\Users\\\\vijit kumar\\\\Machine-Learning-Project\\\\housing\\\\artifact\\\\data_validation\\\\2022=06-25_17-14-01\\\\schema.yaml')"
      ]
     },
     "execution_count": 37,
     "metadata": {},
     "output_type": "execute_result"
    }
   ],
   "source": [
    "config.get_data_validation_config()"
   ]
  },
  {
   "cell_type": "code",
   "execution_count": 38,
   "metadata": {},
   "outputs": [],
   "source": [
    "Data_transformation_info = config.config_info[DATA_TRANSFORMATION_CONFIG_KEY]"
   ]
  },
  {
   "cell_type": "code",
   "execution_count": 39,
   "metadata": {},
   "outputs": [],
   "source": [
    "            add_bedroom_per_room = os.path.join(artifact_dir,str(Data_transformation_info[DATA_ADD_BEDROOM_KEY]))\n",
    "            transformed_dir = os.path.join(artifact_dir,Data_transformation_info[DATA_TRANSFORMED_DIR])\n",
    "            transformed_train_dir = os.path.join(transformed_dir,Data_transformation_info[DATA_TRANSFORMED_TRAIN_DIR])\n",
    "            transformed_test_dir = os.path.join(transformed_dir,Data_transformation_info[DATA_TRANSFORMED_TEST_DIR])\n",
    "            preprocessing_dir= os.path.join(artifact_dir,Data_transformation_info[DATA_PROCESSING_DIR])\n",
    "            preprocessed_object_file_name = os.path.join(preprocessing_dir,Data_transformation_info[DATA_PROCESSED_FILE_NAME])"
   ]
  },
  {
   "cell_type": "code",
   "execution_count": 40,
   "metadata": {},
   "outputs": [
    {
     "data": {
      "text/plain": [
       "DataTransformationConfig(add_bedroom_per_room='c:\\\\Users\\\\vijit kumar\\\\Machine-Learning-Project\\\\housing\\\\artifact\\\\True', transformed_train_dir='c:\\\\Users\\\\vijit kumar\\\\Machine-Learning-Project\\\\housing\\\\artifact\\\\transformed_data\\\\train', transformed_test_dir='c:\\\\Users\\\\vijit kumar\\\\Machine-Learning-Project\\\\housing\\\\artifact\\\\transformed_data\\\\test', preprocessed_object_file_path='c:\\\\Users\\\\vijit kumar\\\\Machine-Learning-Project\\\\housing\\\\artifact\\\\preprocessed\\\\preprocessed.pkl')"
      ]
     },
     "execution_count": 40,
     "metadata": {},
     "output_type": "execute_result"
    }
   ],
   "source": [
    "config.get_data_transformation_config()"
   ]
  },
  {
   "cell_type": "code",
   "execution_count": 41,
   "metadata": {},
   "outputs": [
    {
     "data": {
      "text/plain": [
       "ModelTrainerConfig(trained_model_file_path='c:\\\\Users\\\\vijit kumar\\\\Machine-Learning-Project\\\\housing\\\\artifact\\\\model_train\\\\2022=06-25_17-14-01\\\\trained_model', base_accuracy='0.6')"
      ]
     },
     "execution_count": 41,
     "metadata": {},
     "output_type": "execute_result"
    }
   ],
   "source": [
    "config.get_model_trainer_config()"
   ]
  },
  {
   "cell_type": "code",
   "execution_count": 42,
   "metadata": {},
   "outputs": [],
   "source": [
    "artifact_dir = config.training_pipeline_config.artifact_dir\n",
    "data_transformation_artifact_dir=os.path.join(\n",
    "                artifact_dir,MODEL_TRAIN_ARTIFACT,\n",
    "                config.time_stamp\n",
    "            )"
   ]
  },
  {
   "cell_type": "code",
   "execution_count": 43,
   "metadata": {},
   "outputs": [
    {
     "data": {
      "text/plain": [
       "ModelEvaluationCongif(model_evaluation_file_path='c:\\\\Users\\\\vijit kumar\\\\Machine-Learning-Project\\\\housing\\\\artifact\\\\model_evaluation\\\\2022=06-25_17-14-01\\\\model_evaluation.yaml', time_stamp='2022=06-25_17-14-01')"
      ]
     },
     "execution_count": 43,
     "metadata": {},
     "output_type": "execute_result"
    }
   ],
   "source": [
    "config.get_model_evaluation_config()"
   ]
  },
  {
   "cell_type": "code",
   "execution_count": 44,
   "metadata": {},
   "outputs": [],
   "source": [
    "artifact_dir = config.training_pipeline_config.artifact_dir\n",
    "Model_eval_artifact_dir=os.path.join(\n",
    "                artifact_dir,\n",
    "                MODEL_EVAL_ARTIFACT,\n",
    "                config.time_stamp\n",
    "            )"
   ]
  },
  {
   "cell_type": "code",
   "execution_count": null,
   "metadata": {},
   "outputs": [],
   "source": []
  }
 ],
 "metadata": {
  "interpreter": {
   "hash": "996f2b6e98019c29df53ccff772a8e3fe7cdecb0ba4b3f6ddb9be804d297dd3d"
  },
  "kernelspec": {
   "display_name": "Python 3.9.9 64-bit",
   "language": "python",
   "name": "python3"
  },
  "language_info": {
   "codemirror_mode": {
    "name": "ipython",
    "version": 3
   },
   "file_extension": ".py",
   "mimetype": "text/x-python",
   "name": "python",
   "nbconvert_exporter": "python",
   "pygments_lexer": "ipython3",
   "version": "3.9.9"
  },
  "orig_nbformat": 4
 },
 "nbformat": 4,
 "nbformat_minor": 2
}
